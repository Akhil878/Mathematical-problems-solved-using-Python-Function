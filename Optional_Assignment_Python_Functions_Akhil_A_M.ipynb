{
  "nbformat": 4,
  "nbformat_minor": 0,
  "metadata": {
    "colab": {
      "name": "Optional Assignment - Python Functions Akhil_A_M.ipynb",
      "provenance": []
    },
    "kernelspec": {
      "name": "python3",
      "display_name": "Python 3"
    },
    "language_info": {
      "name": "python"
    }
  },
  "cells": [
    {
      "cell_type": "markdown",
      "metadata": {
        "id": "xwwM9wHHrNJA"
      },
      "source": [
        "##Optional Assignment - Python Functions##\n"
      ]
    },
    {
      "cell_type": "markdown",
      "metadata": {
        "id": "y_aLkhD_sbwl"
      },
      "source": [
        "**1.Write a function that inputs a number and prints the multiplication table of that number**"
      ]
    },
    {
      "cell_type": "code",
      "metadata": {
        "colab": {
          "base_uri": "https://localhost:8080/"
        },
        "id": "VVmOxAi_e1hq",
        "outputId": "5db68fd6-e021-4a55-ef1a-16062b8eb2bf"
      },
      "source": [
        "#Defining function\n",
        "def Mul_table(x):\n",
        "  print(\"Multiplication Table of\",x,\":\")\n",
        "  for i in range(1,11): # iterating over the loop for 10 times\n",
        "    print(x,\"*\",i,\"=\",x*i)\n",
        "\n",
        "Mul_table(5)"
      ],
      "execution_count": 5,
      "outputs": [
        {
          "output_type": "stream",
          "name": "stdout",
          "text": [
            "Multiplication Table of 5 :\n",
            "5 * 1 = 5\n",
            "5 * 2 = 10\n",
            "5 * 3 = 15\n",
            "5 * 4 = 20\n",
            "5 * 5 = 25\n",
            "5 * 6 = 30\n",
            "5 * 7 = 35\n",
            "5 * 8 = 40\n",
            "5 * 9 = 45\n",
            "5 * 10 = 50\n"
          ]
        }
      ]
    },
    {
      "cell_type": "markdown",
      "metadata": {
        "id": "A-BFnV4zvap2"
      },
      "source": [
        "**2.Write a program to print twin primes less than 1000**"
      ]
    },
    {
      "cell_type": "code",
      "metadata": {
        "colab": {
          "base_uri": "https://localhost:8080/"
        },
        "id": "3tGTgHR8vpLF",
        "outputId": "42a46b79-1fa9-4b7c-fec5-2094a814380a"
      },
      "source": [
        "#Function to check if a number is prome\n",
        "def prime(n):\n",
        "  for i in range (2,n):\n",
        "    if n%i == 0:  # checking if number is divisible\n",
        "      return False\n",
        "  return True\n",
        "\n",
        "#If two consecutive odd numbers are prime its twin primes\n",
        "def twin_prime(m):\n",
        "  for i in range (2,m):\n",
        "      j = i+2 #taking j as next odd number\n",
        "      if(prime(i) and prime(j)): # checking if both numbers are prime numbers\n",
        "        print(i,\"and\",j)\n",
        "\n",
        "twin_prime(1000)\n"
      ],
      "execution_count": 8,
      "outputs": [
        {
          "output_type": "stream",
          "name": "stdout",
          "text": [
            "3 and 5\n",
            "5 and 7\n",
            "11 and 13\n",
            "17 and 19\n",
            "29 and 31\n",
            "41 and 43\n",
            "59 and 61\n",
            "71 and 73\n",
            "101 and 103\n",
            "107 and 109\n",
            "137 and 139\n",
            "149 and 151\n",
            "179 and 181\n",
            "191 and 193\n",
            "197 and 199\n",
            "227 and 229\n",
            "239 and 241\n",
            "269 and 271\n",
            "281 and 283\n",
            "311 and 313\n",
            "347 and 349\n",
            "419 and 421\n",
            "431 and 433\n",
            "461 and 463\n",
            "521 and 523\n",
            "569 and 571\n",
            "599 and 601\n",
            "617 and 619\n",
            "641 and 643\n",
            "659 and 661\n",
            "809 and 811\n",
            "821 and 823\n",
            "827 and 829\n",
            "857 and 859\n",
            "881 and 883\n"
          ]
        }
      ]
    },
    {
      "cell_type": "markdown",
      "metadata": {
        "id": "sAMZdN7AzRuW"
      },
      "source": [
        "**3.Write a program to find prime factors of a number**"
      ]
    },
    {
      "cell_type": "code",
      "metadata": {
        "colab": {
          "base_uri": "https://localhost:8080/"
        },
        "id": "Xwny6qAgzez1",
        "outputId": "37b35634-c401-43fe-d686-dcc6000367f8"
      },
      "source": [
        "#code was reffered from https://www.codesansar.com/python-programming-examples/prime-factors.htm\n",
        "\n",
        "def prime_factors(n):\n",
        "    i = 2\n",
        "    prime_factors = [] #creating empty set for prime factors\n",
        "    while i*i <= n:\n",
        "        if n%i == 0: # checking if number is divisible by 2 at first\n",
        "            prime_factors.append(i)\n",
        "            n = n/i #changing n by dividing it by divisor\n",
        "        else:\n",
        "            i += 1 # iterating over n in increments of 1\n",
        "    \n",
        "    if n>1:\n",
        "        prime_factors.append(n)\n",
        "    \n",
        "    return prime_factors\n",
        "\n",
        "prime_factors(56)"
      ],
      "execution_count": 27,
      "outputs": [
        {
          "output_type": "execute_result",
          "data": {
            "text/plain": [
              "[2, 2, 2, 7.0]"
            ]
          },
          "metadata": {},
          "execution_count": 27
        }
      ]
    },
    {
      "cell_type": "markdown",
      "metadata": {
        "id": "rq8jOegtJnSj"
      },
      "source": [
        "**4.Write a program to implement the formula of permutaion and combination**"
      ]
    },
    {
      "cell_type": "code",
      "metadata": {
        "colab": {
          "base_uri": "https://localhost:8080/"
        },
        "id": "Tu2AqR_VJ0vj",
        "outputId": "b9d53efe-7974-4432-92b2-e67dac7069dd"
      },
      "source": [
        "#formula of permutaion and combination are using factorial\n",
        "#code for finding factorial using reccurssion\n",
        "\n",
        "def fact(n):  \n",
        "  return 1 if n == 1 else (n*fact(n-1))\n",
        "\n",
        "# permutaion and combination using equation\n",
        "def npr(n,r):\n",
        "    return (fact(n)/fact(n-r))\n",
        "\n",
        "def ncr(n,r):\n",
        "    return (npr(n,r)/fact(r))\n",
        "\n",
        "print(npr(9,4))\n",
        "\n",
        "print(ncr(9,4))"
      ],
      "execution_count": 31,
      "outputs": [
        {
          "output_type": "stream",
          "name": "stdout",
          "text": [
            "3024.0\n",
            "126.0\n"
          ]
        }
      ]
    },
    {
      "cell_type": "markdown",
      "metadata": {
        "id": "Ue7WoZHiNQED"
      },
      "source": [
        "**5.Write a function that converts decimal number to binary number**"
      ]
    },
    {
      "cell_type": "code",
      "metadata": {
        "colab": {
          "base_uri": "https://localhost:8080/"
        },
        "id": "BfJd3iA7ZlBx",
        "outputId": "b95bd531-6ec6-4cf5-ed92-8781e9d94564"
      },
      "source": [
        "#code was refferred from https://www.besanttechnologies.com/decimal-to-binary-in-python#:~:text=In%20python%20it%20is%20also%20possible%20to%20convert,decimal%20number%20and%20it%20converts%20the%20binary%20value.\n",
        "def decimal_to_binary(n):\n",
        "  if(n>1):\n",
        "    decimal_to_binary(n//2) # flat division by discarding the reminder\n",
        "  print(n%2,end=\"\") # if reminder, then its updated as 1 else updated as zero\n",
        "\n",
        "decimal_to_binary(50)"
      ],
      "execution_count": 42,
      "outputs": [
        {
          "output_type": "stream",
          "name": "stdout",
          "text": [
            "110010"
          ]
        }
      ]
    },
    {
      "cell_type": "markdown",
      "metadata": {
        "id": "eZTe3t6Uk9Pf"
      },
      "source": [
        "**6.Write a function cubesum() that accepts an integer and returns the sum of the cubes of individual digits of that number. Use this function to make functions PrintArmstrong() and isArmstrong() to print Armstrong numbers and to find whether is an Armstrong number**"
      ]
    },
    {
      "cell_type": "code",
      "metadata": {
        "colab": {
          "base_uri": "https://localhost:8080/"
        },
        "id": "t8OODUE0lGWO",
        "outputId": "51cc50d5-fd83-4796-8c0c-f27bf2097c6f"
      },
      "source": [
        "def cubesum(n):\n",
        "    sum=0 #initializing condition\n",
        "    while(n!=0): \n",
        "        sum += ((n%10)**3) # taking reminder of subsequent divisions by 10 to get number at the end position\n",
        "        n = n//10 # flat division to get next digit\n",
        "    return sum\n",
        "#checking for output of cubesum()\n",
        "cubesum(101)"
      ],
      "execution_count": 4,
      "outputs": [
        {
          "output_type": "execute_result",
          "data": {
            "text/plain": [
              "2"
            ]
          },
          "metadata": {},
          "execution_count": 4
        }
      ]
    },
    {
      "cell_type": "code",
      "metadata": {
        "colab": {
          "base_uri": "https://localhost:8080/"
        },
        "id": "6QtdkTc-It2Q",
        "outputId": "5ca95872-78ad-4516-9534-a064fcfc5a3a"
      },
      "source": [
        "#Amstrong number is a number for which cubesum(n) = n ;\n",
        "\n",
        "def PrintArmstrong(n):\n",
        "  for i in range (1,n):\n",
        "    if (cubesum(i) == i):\n",
        "      print (i)\n",
        "\n",
        "PrintArmstrong(500)"
      ],
      "execution_count": 9,
      "outputs": [
        {
          "output_type": "stream",
          "name": "stdout",
          "text": [
            "1\n",
            "153\n",
            "370\n",
            "371\n",
            "407\n"
          ]
        }
      ]
    },
    {
      "cell_type": "code",
      "metadata": {
        "colab": {
          "base_uri": "https://localhost:8080/"
        },
        "id": "2zx1FGpXG4OE",
        "outputId": "02246d1f-8724-46d4-9023-0363d1754726"
      },
      "source": [
        "#function to check if a number is amstrong number\n",
        "\n",
        "def isArmstrong(n):\n",
        "  if (cubesum(n) == n):\n",
        "    print(n,\"is an Amstrong number\")\n",
        "  else:\n",
        "    print(n,\"is not an Amstrong number\")\n",
        "\n",
        "isArmstrong(160)\n",
        "isArmstrong(370)"
      ],
      "execution_count": 11,
      "outputs": [
        {
          "output_type": "stream",
          "name": "stdout",
          "text": [
            "160 is not an Amstrong number\n",
            "370 is an Amstrong number\n"
          ]
        }
      ]
    },
    {
      "cell_type": "markdown",
      "metadata": {
        "id": "hnYXPjt5Mjrh"
      },
      "source": [
        "**7)Write a function prodDigits() that inputs a number and returns the product of digits of that number**"
      ]
    },
    {
      "cell_type": "code",
      "metadata": {
        "colab": {
          "base_uri": "https://localhost:8080/"
        },
        "id": "HZear2O0Nd8R",
        "outputId": "93294985-33ac-42e6-b950-e86d4af137be"
      },
      "source": [
        "def prodDigits(n):\n",
        "  product = 1 #initializing condition\n",
        "  while (n!=0):\n",
        "    product *=(n%10) # taking reminder of subsequent divisions\n",
        "    n=n//10 # flat division to get the next digit\n",
        "  return product\n",
        "\n",
        "prodDigits(54)\n",
        "\n"
      ],
      "execution_count": 18,
      "outputs": [
        {
          "output_type": "execute_result",
          "data": {
            "text/plain": [
              "20"
            ]
          },
          "metadata": {},
          "execution_count": 18
        }
      ]
    },
    {
      "cell_type": "markdown",
      "metadata": {
        "id": "kur4bxMyOzWm"
      },
      "source": [
        "**8)If all digits of a number n are multiplied by each other repeating with the product, the one digit number obtained at last is called the multiplicative digital root of n. The number of times digits need to be multiplied to reach one digit is called the multiplicative persistance of n.**"
      ]
    },
    {
      "cell_type": "code",
      "metadata": {
        "colab": {
          "base_uri": "https://localhost:8080/"
        },
        "id": "0A9YV5QiQPBG",
        "outputId": "209f18ff-e374-4b59-f8a5-e989c098a50a"
      },
      "source": [
        "#MDR and MP can be defined for two digit numbers onwards\n",
        "\n",
        "def MDR(n):\n",
        "  while n >= 10 :\n",
        "    n = prodDigits(n) # output of prodDigits taken as next number\n",
        "  return n\n",
        "MDR(66)\n"
      ],
      "execution_count": 19,
      "outputs": [
        {
          "output_type": "execute_result",
          "data": {
            "text/plain": [
              "8"
            ]
          },
          "metadata": {},
          "execution_count": 19
        }
      ]
    },
    {
      "cell_type": "code",
      "metadata": {
        "colab": {
          "base_uri": "https://localhost:8080/"
        },
        "id": "zFE3nNjIQ4X_",
        "outputId": "5772eece-ffc9-42d3-8943-7a95244731d4"
      },
      "source": [
        "def MP(n):\n",
        "  i = 0 # setting iteration as zero\n",
        "  while n >= 10 : \n",
        "    n = prodDigits(n)\n",
        "    i += 1\n",
        "  return i\n",
        "\n",
        "MP(66)"
      ],
      "execution_count": 23,
      "outputs": [
        {
          "output_type": "execute_result",
          "data": {
            "text/plain": [
              "3"
            ]
          },
          "metadata": {},
          "execution_count": 23
        }
      ]
    },
    {
      "cell_type": "markdown",
      "metadata": {
        "id": "Hlzmgs5dRyUH"
      },
      "source": [
        "**9)Write a function sumPdivisors() that finds the sum of proper divisors of a number.**"
      ]
    },
    {
      "cell_type": "code",
      "metadata": {
        "colab": {
          "base_uri": "https://localhost:8080/"
        },
        "id": "IC3Z1CWTaEeu",
        "outputId": "b874ea61-b01d-40c9-f32c-91693e8e062b"
      },
      "source": [
        "def sumPdivisors(n):\n",
        "    a=[] # initializing an empty set\n",
        "    for i in range(1,n):\n",
        "        if(n%i==0): # proper divisor if reminder is zero\n",
        "            a.append(i)\n",
        "    print(a)\n",
        "    return sum(a)\n",
        "\n",
        "sumPdivisors(64)"
      ],
      "execution_count": 24,
      "outputs": [
        {
          "output_type": "stream",
          "name": "stdout",
          "text": [
            "[1, 2, 4, 8, 16, 32]\n"
          ]
        },
        {
          "output_type": "execute_result",
          "data": {
            "text/plain": [
              "63"
            ]
          },
          "metadata": {},
          "execution_count": 24
        }
      ]
    },
    {
      "cell_type": "markdown",
      "metadata": {
        "id": "JiJ367lCbE6a"
      },
      "source": [
        "**10)A number is called perfect if the sum of proper divisors of that number is equal to the number**"
      ]
    },
    {
      "cell_type": "code",
      "metadata": {
        "colab": {
          "base_uri": "https://localhost:8080/"
        },
        "id": "CpTkRBTebGuR",
        "outputId": "4b2c4ee6-930f-4c3c-8da1-0be35c055b5f"
      },
      "source": [
        "#For a perfect number, sum of proper divisors is equal to the number itself\n",
        "\n",
        "def sumPdivisors(n):\n",
        "    a=[] # initializing an empty set\n",
        "    for i in range(1,n+1):\n",
        "        if(n%i==0): # proper divisor if reminder is zero\n",
        "            a.append(i)\n",
        "    return sum(a)\n",
        "\n",
        "def perfect_num(n):\n",
        "    for i in range (1,n+1):\n",
        "      if (sumPdivisors(i) == i):\n",
        "        print (i)\n",
        "\n",
        "perfect_num(500)"
      ],
      "execution_count": 33,
      "outputs": [
        {
          "output_type": "stream",
          "name": "stdout",
          "text": [
            "6\n",
            "28\n",
            "496\n"
          ]
        }
      ]
    },
    {
      "cell_type": "markdown",
      "metadata": {
        "id": "A3_4sbJueVuG"
      },
      "source": [
        "**11)Two different numbers are called amicable numbers if the sum of the proper divisors of each is equal to the other number**"
      ]
    },
    {
      "cell_type": "code",
      "metadata": {
        "colab": {
          "base_uri": "https://localhost:8080/"
        },
        "id": "MDjeatf4mneM",
        "outputId": "e61eb1fd-b2c6-4176-ec95-f5f74160ead9"
      },
      "source": [
        "def Pdivisors(n):\n",
        "    a=[] # initializing an empty set\n",
        "    for i in range(1,n):\n",
        "        if(n%i==0): # proper divisor if reminder is zero\n",
        "            a.append(i)\n",
        "    return a\n",
        "def Amicable(x,y):\n",
        "    if(sum(Pdivisors(x))==y and sum(Pdivisors(y))==x):\n",
        "        print(x,'and',y,'are amicable')\n",
        "    else:\n",
        "        print(x,'and',y,'are non amicable')\n",
        "\n",
        "Amicable(220,284)\n",
        "Amicable(111,216)"
      ],
      "execution_count": 5,
      "outputs": [
        {
          "output_type": "stream",
          "name": "stdout",
          "text": [
            "220 and 284 are amicable\n",
            "111 and 216 are non amicable\n"
          ]
        }
      ]
    },
    {
      "cell_type": "markdown",
      "metadata": {
        "id": "dkoVoAaWAKot"
      },
      "source": [
        "**12)Write a program which can filter odd numbers in a list by using filter function**"
      ]
    },
    {
      "cell_type": "code",
      "metadata": {
        "colab": {
          "base_uri": "https://localhost:8080/"
        },
        "id": "xmmzJzorAOjT",
        "outputId": "091ea5a2-8bb3-48e7-ac38-38347ca8c80e"
      },
      "source": [
        "lst=[6,9,11,14,13,76,89,8,15,18]\n",
        "\n",
        "Oddnum = list(filter(lambda x : (x%2 == 1),lst)) # Using Lambda Function\n",
        "\n",
        "print(Oddnum)"
      ],
      "execution_count": 8,
      "outputs": [
        {
          "output_type": "stream",
          "name": "stdout",
          "text": [
            "[9, 11, 13, 89, 15]\n"
          ]
        }
      ]
    },
    {
      "cell_type": "markdown",
      "metadata": {
        "id": "g1Oys_8kB2gA"
      },
      "source": [
        "**13)Write a program which can map() to make a list whose elements are cube of elements in a given list**"
      ]
    },
    {
      "cell_type": "code",
      "metadata": {
        "colab": {
          "base_uri": "https://localhost:8080/"
        },
        "id": "2PXn4GyhCY9Z",
        "outputId": "f9f42018-dc42-4a4d-8192-4b850be94fd6"
      },
      "source": [
        "lst = [1,2,3,4,5,6,7,8,9,10]\n",
        "\n",
        "NumCube = list(map(lambda x : (x**3),lst)) # Using Lambda Function\n",
        "\n",
        "print(NumCube)"
      ],
      "execution_count": 9,
      "outputs": [
        {
          "output_type": "stream",
          "name": "stdout",
          "text": [
            "[1, 8, 27, 64, 125, 216, 343, 512, 729, 1000]\n"
          ]
        }
      ]
    },
    {
      "cell_type": "markdown",
      "metadata": {
        "id": "fcBmBh8hDilJ"
      },
      "source": [
        "**14)write a program which can map() and filter() to make a list whose elements are cube of even number in a given list**"
      ]
    },
    {
      "cell_type": "code",
      "metadata": {
        "colab": {
          "base_uri": "https://localhost:8080/"
        },
        "id": "gWQm2rCVDxS5",
        "outputId": "6a9695d6-4128-4a8d-9d3f-7f0160910b76"
      },
      "source": [
        "lst = [1,2,3,4,5,6,7,8,9,10]\n",
        "\n",
        "EvenNum = list(filter(lambda x : (x%2 == 0),lst)) # Using Lambda Function\n",
        "Evencube = list(map(lambda x : (x**3),EvenNum)) # Using Lambda Function\n",
        "\n",
        "print(Evencube)"
      ],
      "execution_count": 10,
      "outputs": [
        {
          "output_type": "stream",
          "name": "stdout",
          "text": [
            "[8, 64, 216, 512, 1000]\n"
          ]
        }
      ]
    },
    {
      "cell_type": "code",
      "metadata": {
        "id": "5MBQYtiXCNiJ"
      },
      "source": [
        ""
      ],
      "execution_count": null,
      "outputs": []
    }
  ]
}